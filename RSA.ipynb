{
  "nbformat": 4,
  "nbformat_minor": 0,
  "metadata": {
    "colab": {
      "provenance": []
    },
    "kernelspec": {
      "name": "python3",
      "display_name": "Python 3"
    },
    "language_info": {
      "name": "python"
    }
  },
  "cells": [
    {
      "cell_type": "markdown",
      "source": [
        "# **IMPLMENTING THE RSA ALGORITHM**"
      ],
      "metadata": {
        "id": "LmaT2QHt77l7"
      }
    },
    {
      "cell_type": "code",
      "source": [
        "import pandas as pd"
      ],
      "metadata": {
        "id": "sxXXpcMkOsO4"
      },
      "execution_count": null,
      "outputs": []
    },
    {
      "cell_type": "code",
      "execution_count": null,
      "metadata": {
        "id": "n9ZTRhnW7VzW"
      },
      "outputs": [],
      "source": [
        "def nearestPrime(text):\n",
        "    n = len(text)\n",
        "    # print('ORIGINAL LENGTH:', n)\n",
        "    diff = 0\n",
        "    notPrime = False\n",
        "    while(True):\n",
        "        notPrime = False\n",
        "        for i in range(2, n-diff):\n",
        "            if ((n-diff) % i==0):\n",
        "                notPrime = True\n",
        "                break\n",
        "\n",
        "        if(not notPrime):\n",
        "            return n-diff\n",
        "        \n",
        "        for i in range(2, n+diff):\n",
        "            if ((n+diff) % i==0):\n",
        "                notPrime = True\n",
        "                break\n",
        "\n",
        "        if(not notPrime):\n",
        "            return n-diff\n",
        "\n",
        "        if(notPrime):\n",
        "            diff+=1\n",
        "            notPrime=False\n",
        "\n",
        "    return n"
      ]
    },
    {
      "cell_type": "code",
      "source": [
        "def gcd(X, Y):\n",
        "    if (Y==0):\n",
        "        return X\n",
        "    \n",
        "    R = X % Y\n",
        "    return gcd(Y, R)"
      ],
      "metadata": {
        "id": "XvDz7TWGC9Ts"
      },
      "execution_count": null,
      "outputs": []
    },
    {
      "cell_type": "code",
      "source": [
        "def findD(E, T):\n",
        "    a = [1, 0]\n",
        "    b = [0, 1]\n",
        "    d = [T, E]\n",
        "    k = ['-', T//E]\n",
        "\n",
        "    while(d[-1] != 1):\n",
        "        # print(a,b,d,k)\n",
        "        a.append(a[-2] - a[-1]*k[-1])\n",
        "        b.append(b[-2] - b[-1]*k[-1])\n",
        "        d.append(d[-2] % d[-1])\n",
        "        k.append(d[-2] // d[-1])\n",
        "    \n",
        "    # print(a,b,d,k)\n",
        "\n",
        "    data = {'A':a, 'B':b, 'D':d, 'K':k}\n",
        "    df = pd.DataFrame(data, index=[i for i in range(len(a))])\n",
        "    D = b[-1]\n",
        "    if(D<0):\n",
        "        D += T\n",
        "    return D, df"
      ],
      "metadata": {
        "id": "kJ1RB9zfDx5V"
      },
      "execution_count": null,
      "outputs": []
    },
    {
      "cell_type": "code",
      "source": [
        "def totient(p,q):\n",
        "    return (p-1) * (q-1)"
      ],
      "metadata": {
        "id": "ho0hCeTI-Y0Z"
      },
      "execution_count": null,
      "outputs": []
    },
    {
      "cell_type": "code",
      "source": [
        "def encryption(PT, e, n):\n",
        "    return (PT**e) % n"
      ],
      "metadata": {
        "id": "A8b06RtG_fns"
      },
      "execution_count": null,
      "outputs": []
    },
    {
      "cell_type": "code",
      "source": [
        "def decryption(CT, d, n):\n",
        "    return (CT**d) % n"
      ],
      "metadata": {
        "id": "cLEohqBv_nID"
      },
      "execution_count": null,
      "outputs": []
    },
    {
      "cell_type": "code",
      "source": [
        "\n",
        "def RSA(p_text, q_text, PT, e=None):\n",
        "    p = nearestPrime(p_text)\n",
        "\n",
        "    q = nearestPrime(q_text)\n",
        "    while(p==q):\n",
        "        q_text += '0'\n",
        "        q = nearestPrime(q_text)\n",
        "    \n",
        "    print('VALUE OF p =', p)\n",
        "    print('VALUE OF q =', q)\n",
        "\n",
        "    n = p * q\n",
        "    print('\\nVALUE OF n =', n)\n",
        "\n",
        "    t_n = totient(p,q)\n",
        "    print('VALUE OF T(n) =', t_n)\n",
        "\n",
        "    if(e == None):\n",
        "        e = 2\n",
        "        while(gcd(t_n, e)!=1 and e!=p and e!=q):\n",
        "            e += 1\n",
        "\n",
        "    print('\\nVALUE OF e =', e)\n",
        "\n",
        "    d, df = findD(e, t_n)\n",
        "    print('\\nFINDING THE VALUE OF d\\n')\n",
        "    print(df)\n",
        "    print('\\nVALUE OF d =', d)\n",
        "\n",
        "    if (PT >= t_n):\n",
        "        PT = PT % t_n\n",
        "\n",
        "    CT = encryption(PT, e, n)\n",
        "    rcvdPT = decryption(CT, d, n)\n",
        "\n",
        "    print('\\nENTERED PT:', PT)\n",
        "    print('\\nCIPHERED PT:', CT)\n",
        "    print('DECRYPTED PT:', rcvdPT)"
      ],
      "metadata": {
        "id": "MspzRAxZ_qhC"
      },
      "execution_count": null,
      "outputs": []
    },
    {
      "cell_type": "code",
      "source": [
        "p_text = 'abcdehy'\n",
        "q_text = 'ghjuigvdqsr'\n",
        "PT = 25\n",
        "\n",
        "e = 17\n",
        "RSA(p_text, q_text, PT, e)"
      ],
      "metadata": {
        "colab": {
          "base_uri": "https://localhost:8080/"
        },
        "id": "0D5J1FBzHien",
        "outputId": "d5dfe0fe-ed88-45ee-ae18-7e4ffc09455b"
      },
      "execution_count": null,
      "outputs": [
        {
          "output_type": "stream",
          "name": "stdout",
          "text": [
            "VALUE OF p = 7\n",
            "VALUE OF q = 11\n",
            "\n",
            "VALUE OF n = 77\n",
            "VALUE OF T(n) = 60\n",
            "\n",
            "VALUE OF e = 17\n",
            "\n",
            "FINDING THE VALUE OF d\n",
            "\n",
            "   A  B   D  K\n",
            "0  1  0  60  -\n",
            "1  0  1  17  3\n",
            "2  1 -3   9  1\n",
            "3 -1  4   8  1\n",
            "4  2 -7   1  8\n",
            "\n",
            "VALUE OF d = 53\n",
            "\n",
            "ENTERED PT: 25\n",
            "\n",
            "CIPHERED PT: 9\n",
            "DECRYPTED PT: 25\n"
          ]
        }
      ]
    },
    {
      "cell_type": "code",
      "source": [
        "p_text = '123'\n",
        "q_text = '123456787901'\n",
        "PT = 12\n",
        "\n",
        "e = 7\n",
        "RSA(p_text, q_text, PT, e)"
      ],
      "metadata": {
        "colab": {
          "base_uri": "https://localhost:8080/"
        },
        "id": "r671MZg6LTLO",
        "outputId": "5b4f7b9a-a838-4571-9fd5-bbe4e6597997"
      },
      "execution_count": null,
      "outputs": [
        {
          "output_type": "stream",
          "name": "stdout",
          "text": [
            "VALUE OF p = 3\n",
            "VALUE OF q = 11\n",
            "\n",
            "VALUE OF n = 33\n",
            "VALUE OF T(n) = 20\n",
            "\n",
            "VALUE OF e = 7\n",
            "\n",
            "FINDING THE VALUE OF d\n",
            "\n",
            "   A  B   D  K\n",
            "0  1  0  20  -\n",
            "1  0  1   7  2\n",
            "2  1 -2   6  1\n",
            "3 -1  3   1  6\n",
            "\n",
            "VALUE OF d = 3\n",
            "\n",
            "ENTERED PT: 12\n",
            "\n",
            "CIPHERED PT: 12\n",
            "DECRYPTED PT: 12\n"
          ]
        }
      ]
    },
    {
      "cell_type": "code",
      "source": [],
      "metadata": {
        "id": "5br4JOe1I1Kk"
      },
      "execution_count": null,
      "outputs": []
    }
  ]
}