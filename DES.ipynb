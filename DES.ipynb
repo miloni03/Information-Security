{
  "nbformat": 4,
  "nbformat_minor": 0,
  "metadata": {
    "colab": {
      "provenance": []
    },
    "kernelspec": {
      "name": "python3",
      "display_name": "Python 3"
    },
    "language_info": {
      "name": "python"
    }
  },
  "cells": [
    {
      "cell_type": "markdown",
      "source": [
        "#Simplified DES"
      ],
      "metadata": {
        "id": "h0TN8iLaF7gM"
      }
    },
    {
      "cell_type": "code",
      "source": [
        "def blocksof4(text):\n",
        "  blocks = []\n",
        "  while(text!=''):\n",
        "      blocks.append(text[:4])\n",
        "      text = text[4:]\n",
        "\n",
        "  return blocks\n",
        "\n"
      ],
      "metadata": {
        "id": "uHbG4m8jF9cH"
      },
      "execution_count": null,
      "outputs": []
    },
    {
      "cell_type": "code",
      "source": [
        "def expansionPermutation(RPT, KEY):\n",
        "  blocksRPT = blocksof4(RPT)\n",
        "  n = len(blocksRPT)\n",
        "  # print(blocksRPT)\n",
        "  expandedRPT = []\n",
        "  for inx, word in enumerate(blocksRPT):\n",
        "      if inx==0:\n",
        "          temp = blocksRPT[-1][-1] + word + blocksRPT[1][0]\n",
        "      elif inx==(n-1):\n",
        "          temp = blocksRPT[-2][-1] + word + blocksRPT[0][0]\n",
        "      else:\n",
        "          temp = blocksRPT[inx-1][-1] + word + blocksRPT[inx+1][0]\n",
        "      \n",
        "      expandedRPT.append(temp)\n",
        "  # print(expandedRPT)\n",
        "  expandedRPT_str = ''.join(expandedRPT)\n",
        "  \n",
        "  \n",
        "  \n",
        "  XORed = ''\n",
        "  for pt, k in zip(expandedRPT_str, KEY):\n",
        "      XORed += str(int(pt)^int(k))\n",
        "  \n",
        "  blocksof6 = []\n",
        "  while XORed!='':\n",
        "      blocksof6.append(XORed[:6])\n",
        "      XORed = XORed[6:]\n",
        "  \n",
        "  \n",
        "  sbox = []\n",
        "  for i in blocksof6:\n",
        "      temp = i[1:5]\n",
        "      sbox.append(temp)\n",
        "  \n",
        "\n",
        "  \n",
        "  sbox_str = ''.join(sbox)\n",
        "\n",
        "  return sbox_str\n",
        "\n"
      ],
      "metadata": {
        "id": "g93LTygJ3R6N"
      },
      "execution_count": null,
      "outputs": []
    },
    {
      "cell_type": "code",
      "source": [
        "def encryption(PT, KEY1, KEY2):\n",
        "  n = len(PT)\n",
        "  n = n//2\n",
        "  lpt = pt[:n]\n",
        "  rpt = pt[n:]\n",
        "  \n",
        "  for i in range(2):\n",
        "      print('\\n\\nLPT :', lpt)\n",
        "      print('RPT :', rpt)\n",
        "      if(i==0):\n",
        "          sbox = expansionPermutation(rpt, KEY1)\n",
        "      else:\n",
        "          sbox = expansionPermutation(rpt, KEY2)\n",
        "\n",
        "      xor = ''\n",
        "      for l, k in zip(lpt, sbox):\n",
        "        \n",
        "          xor += str(int(l)^int(k))\n",
        "      \n",
        "      lpt = xor\n",
        "      lpt, rpt = rpt, lpt\n",
        "\n",
        "  \n",
        "  return lpt + rpt\n",
        "\n"
      ],
      "metadata": {
        "id": "pcF4tWTd3h7t"
      },
      "execution_count": null,
      "outputs": []
    },
    {
      "cell_type": "code",
      "source": [
        "pt = '0100110010100001101101001100111000000110010111110100010001010010'\n",
        "key1 = '001111111010110111000011111100010110110011110100'\n",
        "key2 = '110000000101001000111100000011101001001100001011'\n",
        "print(\"\\nPLAIN TEXT:\", pt)\n",
        "ct = encryption(pt, key1, key2)\n",
        "print(\"\\n\\nCIPHERED TEXT:\", ct)"
      ],
      "metadata": {
        "colab": {
          "base_uri": "https://localhost:8080/"
        },
        "id": "Giw0GsBW3qJI",
        "outputId": "689200be-a059-4389-bbaf-fa43b8a0ac8a"
      },
      "execution_count": null,
      "outputs": [
        {
          "output_type": "stream",
          "name": "stdout",
          "text": [
            "\n",
            "PLAIN TEXT: 0100110010100001101101001100111000000110010111110100010001010010\n",
            "\n",
            "\n",
            "LPT : 01001100101000011011010011001110\n",
            "RPT : 00000110010111110100010001010010\n",
            "\n",
            "\n",
            "LPT : 00000110010111110100010001010010\n",
            "RPT : 00110111010011110001101100000110\n",
            "\n",
            "\n",
            "CIPHERED TEXT: 0011011101001111000110110000011010110011010111100100101100110001\n"
          ]
        }
      ]
    },
    {
      "cell_type": "code",
      "source": [],
      "metadata": {
        "id": "G233Ki-E3xPC"
      },
      "execution_count": null,
      "outputs": []
    }
  ]
}