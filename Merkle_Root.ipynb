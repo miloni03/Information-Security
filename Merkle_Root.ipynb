{
  "nbformat": 4,
  "nbformat_minor": 0,
  "metadata": {
    "colab": {
      "provenance": []
    },
    "kernelspec": {
      "name": "python3",
      "display_name": "Python 3"
    },
    "language_info": {
      "name": "python"
    }
  },
  "cells": [
    {
      "cell_type": "markdown",
      "source": [
        "## **IMPLEMENTING MERKLE TREE USING SHA/MD5 ALGORITHM**"
      ],
      "metadata": {
        "id": "ZyOOA2wVw-Y3"
      }
    },
    {
      "cell_type": "code",
      "execution_count": null,
      "metadata": {
        "id": "lXQqeOtfwnuE"
      },
      "outputs": [],
      "source": [
        "import hashlib"
      ]
    },
    {
      "cell_type": "code",
      "source": [
        "L = '''A cryptographic hash is a function that outputs a fixed-size digest for a variable-length input.\n",
        "A hash function is an important cryptographic primitive and extensively used in blockchain.\n",
        "For example, SHA-256 is a hash function in which for any variable-bit length input, the output is always going to be a 256-bit hash.'''\n",
        "\n",
        "file = open(\"readme.txt\",\"w\")\n",
        "file.writelines(L)\n",
        "file.close()"
      ],
      "metadata": {
        "id": "mUpOWg2w0iRW"
      },
      "execution_count": null,
      "outputs": []
    },
    {
      "cell_type": "markdown",
      "source": [
        "**FUNCTION TO CHECK WHETHER NUMBER N IS A POWER OF 2**"
      ],
      "metadata": {
        "id": "pjJ6MkkvxZ4-"
      }
    },
    {
      "cell_type": "code",
      "source": [
        "def isPowerOfTwo(n):\n",
        "    # IF n IS 0, RETURN FALSE\n",
        "    if (n == 0):\n",
        "        return False\n",
        "\n",
        "    while (n != 1):\n",
        "        # IF n IS NOT DIVISIBLE BY 2, RETURN FALSE\n",
        "        if (n % 2 != 0):\n",
        "            return False\n",
        "        n = n // 2\n",
        "\n",
        "    return True"
      ],
      "metadata": {
        "id": "QuIp0KwExN3t"
      },
      "execution_count": null,
      "outputs": []
    },
    {
      "cell_type": "markdown",
      "source": [
        "**FUNCTION TO CREATE A MERKLE TREE**"
      ],
      "metadata": {
        "id": "Gr9qFvzv0cTa"
      }
    },
    {
      "cell_type": "code",
      "source": [
        "def MerkleTree(PT):\n",
        "    PT_list = []\n",
        "    for char in PT:\n",
        "        # APPENDING ALL CHARS OF INPUT TO PT_list\n",
        "        PT_list.append(char)\n",
        "    \n",
        "    # SINCE INPUT FOR HASHING WILL BE OF 16 BITS,\n",
        "    # DIVIDING THE PT_list INTO BLOCKS OF 16\n",
        "    PT_list = [PT_list[i:i+16] for i in range(0, len(PT_list), 16)]\n",
        "\n",
        "    # TO MAKE LAST BLOCK OF 16 BITS, IF ITS NOT\n",
        "    if len(PT_list[-1]) < 16:\n",
        "\n",
        "        diff = 16 - len(PT_list[-1])\n",
        "        # APPENDING diff 0s TO LAST BLOCKS\n",
        "        for i in range(diff):\n",
        "            PT_list[-1].append('0')\n",
        "    \n",
        "    # IF LENGTH OF PT_list IS NOT POWER OF 2\n",
        "    if not isPowerOfTwo(len(PT_list)):\n",
        "        k = 0\n",
        "        i = 0\n",
        "        # CALCULATING NEXT POWER OF 2 > len(PT_list)\n",
        "        while k < len(PT_list):\n",
        "            k = 2**i\n",
        "            i = i+1\n",
        "\n",
        "        # TAKING THE DIFFERENCE TO MAKE IT POWER OF 2\n",
        "        diff -= len(PT_list)\n",
        "        empt = ['0']*16  # PADDING BLOCK TO ADD\n",
        "\n",
        "        # APPENDING PADDING BLOCK TO PT_list FOR diff TIMES\n",
        "        for i in range(0, diff):\n",
        "            PT_list.append(empt)\n",
        "\n",
        "    print(\"\\nLEVEL 1\")\n",
        "    for i in range(0, len(PT_list)):\n",
        "        # JOINING OUR SUB-LIST TO MAKE AN TEXT FOR HASHING\n",
        "        PT_list[i] = ''.join(PT_list[i])\n",
        "\n",
        "        # CONVERTING SUB-LIST TO utf-8 AND HASHING IT USING MD5\n",
        "        PT_list[i] = hashlib.md5(PT_list[i].encode(\"utf-8\")).hexdigest()\n",
        "        print(f\"H({i})\", PT_list[i])            \n",
        "\n",
        "    j = 2\n",
        "    while len(PT_list) != 1:  \n",
        "        # LOOP TILL WE GET THE MERKLE ROOT OF THE TREE\n",
        "        print(\"\\n\\nLEVEL\", j)\n",
        "\n",
        "        # JOINING HEX STRING IN ORDER OF (1,2), (3,4), ...\n",
        "        PT_list = [''.join(x[0]+x[1]) for x in zip(PT_list[0::2], PT_list[1::2])]\n",
        "\n",
        "        # CONVERTING SUB-LIST TO utf-8 AND HASHING IT USING MD5\n",
        "        for i in range(0, len(PT_list)):\n",
        "            PT_list[i] = hashlib.md5(PT_list[i].encode(\"utf-8\")).hexdigest()\n",
        "            print(f\"H({i})\", PT_list[i])\n",
        "\n",
        "        j = j + 1\n",
        "\n",
        "    return PT_list[0]"
      ],
      "metadata": {
        "id": "mg3o3QlIyAWW"
      },
      "execution_count": null,
      "outputs": []
    },
    {
      "cell_type": "code",
      "source": [
        "PT = open('readme.txt').read()\n",
        "merkleRoot = MerkleTree(PT)"
      ],
      "metadata": {
        "colab": {
          "base_uri": "https://localhost:8080/"
        },
        "id": "NQlQWHO_2pW0",
        "outputId": "1ade82cb-54ba-4c49-9bb1-cf7fee661754"
      },
      "execution_count": null,
      "outputs": [
        {
          "output_type": "stream",
          "name": "stdout",
          "text": [
            "\n",
            "LEVEL 1\n",
            "H(0) 1cb6c7c85d1d958d65801e7e460de789\n",
            "H(1) 7296092c87292c903101afc9a1ff1dc8\n",
            "H(2) fd8dd7a1d82c0b0c14c71d5255303775\n",
            "H(3) 94f5d517c22b4adeed048a86e6ac91a5\n",
            "H(4) 82f470d282373aae7487c81135df1a5f\n",
            "H(5) 405be6b15488cedd50100655c92fa865\n",
            "H(6) 784f9955c8d10383b4a5c57622d68f2e\n",
            "H(7) 8f896f4fc01e3d11548fa674249e6f94\n",
            "H(8) 74322ca31351be9ad57539f539d4c6bc\n",
            "H(9) fd28a7e45303739d2be74defd454e21f\n",
            "H(10) 89ba9dc825bbf0e509d019f49e4cef79\n",
            "H(11) ccc5911b6a34bddb6d9819f03af14697\n",
            "H(12) 44e612612415a60dae76dfd376152659\n",
            "H(13) a04940fd9ef79f604fc3b19e14a6e9f9\n",
            "H(14) 8a047fabda3455ecb4c9f64b781f4e9e\n",
            "H(15) b4efde52c75946a6112a08ed82115ec4\n",
            "H(16) 2cc59be074e69b08b077c386c8074b07\n",
            "H(17) dc491eb0535a8d1ffe83fdf9f3e46f1c\n",
            "H(18) 98c3d26dd350c9b0e4ca2c64607a6a39\n",
            "H(19) cd19175a64f2320f0bf0bcdb01f8b0fd\n",
            "H(20) 62667ce714b54b7868b4d6c458e0642d\n",
            "\n",
            "\n",
            "LEVEL 2\n",
            "H(0) 9c21bef9ea89c907d09886758fb6cff8\n",
            "H(1) 1a0a3519ea13d06e2a38623f10ac3552\n",
            "H(2) f6aa2ba76b224a60ca92f16653eabd99\n",
            "H(3) 37a1e1534c6c1fed6e68aea0812773b2\n",
            "H(4) 01607e8dbb1999a49be2f98ee2084fa0\n",
            "H(5) 4e99b7e8408843ee971f0e12d61905be\n",
            "H(6) 987cd64d267748013b7cf329710d543b\n",
            "H(7) d9612105049023eb8d97b737ae2989a1\n",
            "H(8) b1e9f8cc5a7a26c390691158cce5fa94\n",
            "H(9) 232cba866e9624f0920386cee3ad1a63\n",
            "\n",
            "\n",
            "LEVEL 3\n",
            "H(0) 9090812738b984c636f66233c3beb721\n",
            "H(1) ad712f475e4dc430c643f142194a3646\n",
            "H(2) 24ad18c3b24d12e2f95bb27f7d9fd90f\n",
            "H(3) df0f6a4c35a498291b932e38dea453a8\n",
            "H(4) f8cd220f3f6f028c09f9d5c16a233cee\n",
            "\n",
            "\n",
            "LEVEL 4\n",
            "H(0) ceaf73a8625e908328266a876fd7a59a\n",
            "H(1) 05a7dc1805d6e2bbeea7c9e04f50543e\n",
            "\n",
            "\n",
            "LEVEL 5\n",
            "H(0) 8de6dd2e7e44e504290f281ac10a7db3\n"
          ]
        }
      ]
    },
    {
      "cell_type": "code",
      "source": [
        "print(\"\\nTHE MERKLE ROOT OR FINAL HASH OF PT IS:\", merkleRoot)"
      ],
      "metadata": {
        "colab": {
          "base_uri": "https://localhost:8080/"
        },
        "id": "qM6HVRWU2zvU",
        "outputId": "e2018dae-1ee7-4385-9957-9a90ce435b07"
      },
      "execution_count": null,
      "outputs": [
        {
          "output_type": "stream",
          "name": "stdout",
          "text": [
            "\n",
            "THE MERKLE ROOT OR FINAL HASH OF PT IS: 8de6dd2e7e44e504290f281ac10a7db3\n"
          ]
        }
      ]
    },
    {
      "cell_type": "code",
      "source": [],
      "metadata": {
        "id": "PnxtCRI_rCzt"
      },
      "execution_count": null,
      "outputs": []
    }
  ]
}