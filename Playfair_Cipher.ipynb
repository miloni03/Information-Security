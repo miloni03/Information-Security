{
  "nbformat": 4,
  "nbformat_minor": 0,
  "metadata": {
    "colab": {
      "provenance": []
    },
    "kernelspec": {
      "name": "python3",
      "display_name": "Python 3"
    },
    "language_info": {
      "name": "python"
    }
  },
  "cells": [
    {
      "cell_type": "markdown",
      "source": [
        "#Playfair cipher \n"
      ],
      "metadata": {
        "id": "dDMkzINT6ez_"
      }
    },
    {
      "cell_type": "code",
      "source": [
        "def printMat(mat):\n",
        "  for i in mat:\n",
        "    print(i)"
      ],
      "metadata": {
        "id": "n1ih3ncFTeZB"
      },
      "execution_count": null,
      "outputs": []
    },
    {
      "cell_type": "code",
      "source": [
        "def create_matrix(flag,key,pt):\n",
        "  temp=\"\"\n",
        "  for i in key:\n",
        "    if(i not in temp):\n",
        "      temp+=i\n",
        "  print(\"After removing duplicates in key :\",temp)\n",
        "\n",
        "  matrix=[[0 for _ in range(5)] for _ in range(5)]\n",
        "  # print(temp)\n",
        "\n",
        "  temp2=\"\"\n",
        "  starti,startj=0,0\n",
        "\n",
        "  if(True):\n",
        "    gg=False\n",
        "    for i in range(0,5):\n",
        "      if(not gg):\n",
        "        \n",
        "        for j in range(0,5):\n",
        "          if(len(temp)==0):\n",
        "            starti=i\n",
        "            startj=j\n",
        "            # print(i,j)\n",
        "            gg=True\n",
        "            break\n",
        "          matrix[i][j]=temp[0]\n",
        "          temp2+=temp[0]\n",
        "          temp=temp[1:]\n",
        "          # print(temp)\n",
        "\n",
        "    # print(temp2)\n",
        "    # printMat(matrix)                                              \n",
        "\n",
        "    ftemp=\"\"\n",
        "    for i in \"abcdefghijklmnopqrstuvwxyz\":\n",
        "      if i not in temp2:\n",
        "        ftemp+=i\n",
        "    # print(ftemp)\n",
        "\n",
        "\n",
        "    # print(starti,startj)\n",
        "    for i in range(startj,5):\n",
        "      matrix[starti][i]=ftemp[0]\n",
        "      ftemp=ftemp[1:]\n",
        "      # print(ftemp)\n",
        "    # printMat(matrix)\n",
        "\n",
        "    if(flag==1):\n",
        "      for i in range(starti+1,5):\n",
        "        for j in range(5):\n",
        "          if(ftemp[0]=='i'):\n",
        "            matrix[i][j]='i/j'\n",
        "            ftemp=ftemp[2:]\n",
        "          else:\n",
        "            matrix[i][j]=ftemp[0]\n",
        "            ftemp=ftemp[1:]\n",
        "    else:\n",
        "      for i in range(starti+1,5):\n",
        "        for j in range(5):\n",
        "          # print(ftemp)\n",
        "          if(len(ftemp)!=0):\n",
        "\n",
        "            if(ftemp[0]=='y'):\n",
        "              matrix[i][j]='y/z'\n",
        "              ftemp=ftemp[2:]\n",
        "            else:\n",
        "              matrix[i][j]=ftemp[0]\n",
        "              ftemp=ftemp[1:]\n",
        "    return matrix\n",
        "    \n",
        "  \n",
        "\n",
        "create_matrix(0,\"countri\",\"WelcometoIndia\")\n",
        "\n",
        "\n"
      ],
      "metadata": {
        "colab": {
          "base_uri": "https://localhost:8080/"
        },
        "id": "CU9p6-zQ8_MW",
        "outputId": "fa73c183-39ce-4847-ec3b-ec5e2f37636f"
      },
      "execution_count": null,
      "outputs": [
        {
          "output_type": "stream",
          "name": "stdout",
          "text": [
            "After removing duplicates in key : countri\n"
          ]
        },
        {
          "output_type": "execute_result",
          "data": {
            "text/plain": [
              "[['c', 'o', 'u', 'n', 't'],\n",
              " ['r', 'i', 'a', 'b', 'd'],\n",
              " ['e', 'f', 'g', 'h', 'j'],\n",
              " ['k', 'l', 'm', 'p', 'q'],\n",
              " ['s', 'v', 'w', 'x', 'y/z']]"
            ]
          },
          "metadata": {},
          "execution_count": 3
        }
      ]
    },
    {
      "cell_type": "code",
      "source": [
        "def make_pair(pt):\n",
        "\n",
        "  new_pt=\"\"\n",
        "  temp=[pt[i:i+2] for i in range(0,len(pt),2)]\n",
        "  print(temp)\n",
        "  for pp in temp:\n",
        "    if(len(pp)!=1 and pp[0]==pp[1]):\n",
        "      if(len(new_pt)!=0 and new_pt[-1]==pp[0]):\n",
        "        new_pt+=\"x\"\n",
        "      new_pt+=pp[0]+\"x\"+pp[0]\n",
        "    elif(len(pp)!=1 and pp[0]!=pp[1]):\n",
        "      if(len(new_pt)!=0 and new_pt[-1]==pp[0]):\n",
        "        new_pt+=\"x\"\n",
        "      new_pt+=pp[0]+pp[1]\n",
        "    else:\n",
        "      new_pt+=pp[0]+\"x\"\n",
        "  \n",
        "  # print(new_pt)\n",
        "  pairs=[new_pt[i:i+2] for i in range(0,len(new_pt),2)]\n",
        "  if(len(pairs[-1])==1):\n",
        "    c=pairs[-1][0]\n",
        "    pairs.pop()\n",
        "    pairs.append(c+\"x\")\n",
        "  # print(pairs)\n",
        "  return pairs\n",
        "\n",
        "make_pair(\"aaaaba\")\n"
      ],
      "metadata": {
        "id": "TSri7r9xYp2i",
        "colab": {
          "base_uri": "https://localhost:8080/"
        },
        "outputId": "36af415c-dada-4922-e7ce-7b1625ba180e"
      },
      "execution_count": null,
      "outputs": [
        {
          "output_type": "stream",
          "name": "stdout",
          "text": [
            "['aa', 'aa', 'ba']\n"
          ]
        },
        {
          "output_type": "execute_result",
          "data": {
            "text/plain": [
              "['ax', 'ax', 'ax', 'ab', 'ax']"
            ]
          },
          "metadata": {},
          "execution_count": 4
        }
      ]
    },
    {
      "cell_type": "code",
      "source": [
        "def index_2d(mat, v):\n",
        "  for i,row in enumerate(mat):\n",
        "    for j,col in enumerate(row):\n",
        "      if(mat[i][j]==v):\n",
        "        return i,j\n",
        "\n",
        "\n",
        "def from_matrix(i1,i2,j1,j2,mat):\n",
        "  a=\"\"\n",
        "  b=\"\"\n",
        "  row_n=len(mat[0])\n",
        "  col_n=len(mat)\n",
        "  if(i1==i2):\n",
        "    a=mat[i1][(j1+1)%col_n]\n",
        "    b=mat[i2][(j2+1)%col_n]\n",
        "  elif(j1==j2):\n",
        "    a=mat[(i1+1)%row_n][j1]\n",
        "    b=mat[(i2+1)%row_n][j2]\n",
        "  else:\n",
        "    a=mat[i1][j2]\n",
        "    b=mat[i2][j1]\n",
        "\n",
        "  pp=a+b\n",
        "  return pp\n",
        "\n",
        "def from_matrix1(i1,i2,j1,j2,mat):\n",
        "  a=\"\"\n",
        "  b=\"\"\n",
        "  row_n=len(mat[0])\n",
        "  col_n=len(mat)\n",
        "  if(i1==i2):\n",
        "    a=mat[i1][(j1-1+col_n)%col_n]\n",
        "    b=mat[i2][(j2-1+col_n)%col_n]\n",
        "  elif(j1==j2):\n",
        "    a=mat[(i1-1+row_n)%row_n][j1]\n",
        "    b=mat[(i2-1+row_n)%row_n][j2]\n",
        "  else:\n",
        "    a=mat[i1][j2]\n",
        "    b=mat[i2][j1]\n",
        "\n",
        "  pp=a+b\n",
        "  return pp\n",
        "\n",
        "\n",
        "\n",
        "def encrypt(pt,key):\n",
        "\n",
        "  matrix=[[0 for _ in range(5)] for _ in range(5)]\n",
        "  # 1 for key not containing i/j\n",
        "  # 0 for key containing i/j\n",
        "  ct=\"\"\n",
        "  # for case 1\n",
        "  mat=None\n",
        "  if \"i\" not in key or \"j\" not in key:\n",
        "   \n",
        "    mat=create_matrix(1,key,pt)\n",
        "    \n",
        "    pairs=make_pair(pt)\n",
        "    \n",
        "    \n",
        "    for pp in pairs:\n",
        "      a=pp[0]\n",
        "      b=pp[1]\n",
        "      if(pp[0]=='i' or pp[0]=='j'):\n",
        "        a=\"i/j\"\n",
        "      if(pp[1]=='i' or pp[1]=='j'):\n",
        "        b=\"i/j\"\n",
        "      i1,j1=index_2d(mat,a)\n",
        "      i2,j2=index_2d(mat,b)\n",
        "      \n",
        "      ct+=from_matrix(i1,i2,j1,j2,mat)\n",
        "    \n",
        "\n",
        "  else:\n",
        "    mat=create_matrix(0,key,pt)\n",
        "    pairs=make_pair(pt)\n",
        "    for pp in pairs:\n",
        "      a=pp[0]\n",
        "      b=pp[1]\n",
        "      if(pp[0]=='y' or pp[0]=='z'):\n",
        "        a=\"y/z\"\n",
        "      if(pp[1]=='y' or pp[1]=='z'):\n",
        "        b=\"y/z\"\n",
        "      i1,j1=index_2d(mat,a)\n",
        "      i2,j2=index_2d(mat,b)\n",
        "      \n",
        "      ct+=from_matrix(i1,i2,j1,j2,mat)\n",
        "   \n",
        "  return ct,mat\n",
        "\n",
        "\n",
        "io,mat=encrypt(\"instruments\",\"monarchy\")\n",
        "print(\"cipher text\",io)\n",
        "print(\"The matrix is: \",mat)"
      ],
      "metadata": {
        "id": "BTf9sRP1Vq_-",
        "colab": {
          "base_uri": "https://localhost:8080/"
        },
        "outputId": "44295e4f-6695-4d33-a957-13e5380b8039"
      },
      "execution_count": null,
      "outputs": [
        {
          "output_type": "stream",
          "name": "stdout",
          "text": [
            "After removing duplicates in key : monarchy\n",
            "['in', 'st', 'ru', 'me', 'nt', 's']\n",
            "cipher text gatlmzclrqxa\n",
            "The matrix is:  [['m', 'o', 'n', 'a', 'r'], ['c', 'h', 'y', 'b', 'd'], ['e', 'f', 'g', 'i/j', 'k'], ['l', 'p', 'q', 's', 't'], ['u', 'v', 'w', 'x', 'z']]\n"
          ]
        }
      ]
    },
    {
      "cell_type": "code",
      "source": [
        "# plain_text=input(\"Enter the plain text: \")\n",
        "# key_word=input(\"Enter the key: \")\n",
        "# cipher_text=encrypt(plain_text,key_word)"
      ],
      "metadata": {
        "id": "-8h7FIND7enN"
      },
      "execution_count": null,
      "outputs": []
    },
    {
      "cell_type": "code",
      "source": [
        "def decrypt(matrix,ct):\n",
        "  pairs=make_pair(ct)\n",
        "  pt=\"\"\n",
        "  printMat(matrix)\n",
        "  for pp in pairs:\n",
        "      a=pp[0]\n",
        "      b=pp[1]\n",
        "      if(pp[0]=='i' or pp[0]=='j'):\n",
        "        a=\"i/j\"\n",
        "      if(pp[1]=='i' or pp[1]=='j'):\n",
        "        b=\"i/j\"\n",
        "      i1,j1=index_2d(mat,a)\n",
        "      i2,j2=index_2d(mat,b)\n",
        "      \n",
        "      pt+=from_matrix1(i1,i2,j1,j2,mat)\n",
        "  return pt\n",
        "  \n",
        "decrypt(mat,io)"
      ],
      "metadata": {
        "id": "oY7eqOEF-rHy",
        "colab": {
          "base_uri": "https://localhost:8080/",
          "height": 140
        },
        "outputId": "59dc3e7a-0502-4df5-b1d6-eaf1f18270f1"
      },
      "execution_count": null,
      "outputs": [
        {
          "output_type": "stream",
          "name": "stdout",
          "text": [
            "['ga', 'tl', 'mz', 'cl', 'rq', 'xa']\n",
            "['m', 'o', 'n', 'a', 'r']\n",
            "['c', 'h', 'y', 'b', 'd']\n",
            "['e', 'f', 'g', 'i/j', 'k']\n",
            "['l', 'p', 'q', 's', 't']\n",
            "['u', 'v', 'w', 'x', 'z']\n"
          ]
        },
        {
          "output_type": "execute_result",
          "data": {
            "text/plain": [
              "'i/jnstrumentsx'"
            ],
            "application/vnd.google.colaboratory.intrinsic+json": {
              "type": "string"
            }
          },
          "metadata": {},
          "execution_count": 11
        }
      ]
    },
    {
      "cell_type": "code",
      "source": [
        "pt=\"aaaabbbccc\"\n",
        "temp=set(pt)\n",
        "temp1=str(temp)\n",
        "print(type(temp1))"
      ],
      "metadata": {
        "id": "XbKpP0lG-rI9",
        "colab": {
          "base_uri": "https://localhost:8080/"
        },
        "outputId": "8075b533-a140-4945-e1ac-4a2d1fbfe95c"
      },
      "execution_count": null,
      "outputs": [
        {
          "output_type": "stream",
          "name": "stdout",
          "text": [
            "<class 'str'>\n"
          ]
        }
      ]
    }
  ]
}