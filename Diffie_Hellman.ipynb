{
  "nbformat": 4,
  "nbformat_minor": 0,
  "metadata": {
    "colab": {
      "provenance": []
    },
    "kernelspec": {
      "name": "python3",
      "display_name": "Python 3"
    },
    "language_info": {
      "name": "python"
    }
  },
  "cells": [
    {
      "cell_type": "code",
      "execution_count": 1,
      "metadata": {
        "colab": {
          "base_uri": "https://localhost:8080/"
        },
        "id": "QzCcrOd-stc1",
        "outputId": "0f203878-269c-4fc7-d76b-9684736396f9"
      },
      "outputs": [
        {
          "output_type": "stream",
          "name": "stdout",
          "text": [
            "Enter number A selected by Alice : 4\n",
            "Enter number B selected by Bob : 3\n",
            "Enter base g : 9\n",
            "Enter modulus p : 23\n",
            "Xa = 6\n",
            "Xb = 16\n",
            "Secret key Ak = 9\n",
            "Secret key Bk = 9\n",
            "Since Ak=Bk, Alice and Bob can communicate\n"
          ]
        }
      ],
      "source": [
        "A=int(input(\"Enter number A selected by Alice : \"))\n",
        "B=int(input(\"Enter number B selected by Bob : \"))\n",
        "g=int(input(\"Enter base g : \"))\n",
        "p=int(input(\"Enter modulus p : \"))\n",
        "\n",
        "Xa = (g**A)%p\n",
        "Xb = (g**B)%p\n",
        "print(\"Xa =\",Xa)\n",
        "print(\"Xb =\",Xb)\n",
        "\n",
        "Ak = (Xb**A)%p\n",
        "Bk = (Xa**B)%p\n",
        "print(\"Secret key Ak =\",Ak)\n",
        "print(\"Secret key Bk =\",Bk)\n",
        "print(\"Since Ak=Bk, Alice and Bob can communicate\")"
      ]
    },
    {
      "cell_type": "code",
      "source": [],
      "metadata": {
        "id": "cgRUvjnPtIMf"
      },
      "execution_count": null,
      "outputs": []
    }
  ]
}