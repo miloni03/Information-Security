{
  "nbformat": 4,
  "nbformat_minor": 0,
  "metadata": {
    "colab": {
      "provenance": [],
      "collapsed_sections": [
        "0NhZObixQxzX",
        "8ZMC__P_Q6Pw",
        "s_pS_T0p1fmx",
        "8bDsfxEjMxur"
      ]
    },
    "kernelspec": {
      "name": "python3",
      "display_name": "Python 3"
    },
    "language_info": {
      "name": "python"
    }
  },
  "cells": [
    {
      "cell_type": "markdown",
      "source": [],
      "metadata": {
        "id": "vBRK8RPk2HMq"
      }
    },
    {
      "cell_type": "code",
      "source": [
        "import pandas as pd"
      ],
      "metadata": {
        "id": "Dgf04yIzK9xr"
      },
      "execution_count": null,
      "outputs": []
    },
    {
      "cell_type": "markdown",
      "source": [
        "## **CAESAR CIPHER**"
      ],
      "metadata": {
        "id": "-_f0lYE1QsIh"
      }
    },
    {
      "cell_type": "code",
      "source": [
        "num = '0123456789'\n",
        "lower = 'abcdefghijklmnopqrstuvwxyz'\n",
        "upper = 'ABCDEFGHIJKLMNOPQRSTUVWXYZ'"
      ],
      "metadata": {
        "id": "7X6sWuVPQW5H"
      },
      "execution_count": null,
      "outputs": []
    },
    {
      "cell_type": "markdown",
      "source": [
        "### **ENCRYPTION**"
      ],
      "metadata": {
        "id": "0NhZObixQxzX"
      }
    },
    {
      "cell_type": "code",
      "execution_count": null,
      "metadata": {
        "id": "VPjdB9uFqjUW"
      },
      "outputs": [],
      "source": [
        "def encryption(pt, key):\n",
        "    ct = ''\n",
        "    for char in pt:\n",
        "        if char in lower:\n",
        "            inx = lower.index(char)\n",
        "            ct += lower[(inx+key)%26]\n",
        "        \n",
        "        elif char in upper:\n",
        "            inx = upper.index(char)\n",
        "            ct += upper[(inx+key)%26]\n",
        "\n",
        "        elif char == ' ':\n",
        "            ct += ' '\n",
        "            \n",
        "        elif char in num:\n",
        "            inx = num.index(char)\n",
        "            ct += num[(inx+key)%10]\n",
        "        \n",
        "        else:\n",
        "            ct += char\n",
        "\n",
        "    return ct"
      ]
    },
    {
      "cell_type": "markdown",
      "source": [
        "### **DECRYPTION**"
      ],
      "metadata": {
        "id": "ryBpyk5IQ1s8"
      }
    },
    {
      "cell_type": "code",
      "source": [
        "def decryption(ct, key):\n",
        "    pt = ''\n",
        "    for char in ct:\n",
        "        if char in lower:\n",
        "            inx = lower.index(char)\n",
        "            pt += lower[(inx-key+26)%26]\n",
        "        \n",
        "        elif char in upper:\n",
        "            inx = upper.index(char)\n",
        "            pt += upper[(inx-key+26)%26]\n",
        "\n",
        "        elif char == ' ':\n",
        "            pt += ' '\n",
        "\n",
        "        elif char in num:\n",
        "            inx = num.index(char)\n",
        "            pt += num[(inx-key+10)%10]\n",
        "\n",
        "        else:\n",
        "            pt += char\n",
        "\n",
        "    return pt"
      ],
      "metadata": {
        "id": "-vuVWWr1q4H4"
      },
      "execution_count": null,
      "outputs": []
    },
    {
      "cell_type": "markdown",
      "source": [
        "### **TESTING AGAINST INPUT**"
      ],
      "metadata": {
        "id": "8ZMC__P_Q6Pw"
      }
    },
    {
      "cell_type": "code",
      "source": [
        "# pt = input('ENTER INPUT STRING: ')\n",
        "# key = int(input('ENTER ENCRYPTION KEY: '))\n",
        "\n",
        "pt = 'Txypevcb{vc~xyd;7Nxb7ver7xyr7dcrg7t{xdre7cx797979'\n",
        "key = 11\n",
        "\n",
        "print('\\nORIGINAL TEXT:', pt)\n",
        "\n",
        "ct = encryption(pt, key)\n",
        "print('\\nENCRYPTED TEXT:', ct)\n",
        "\n",
        "new_pt = decryption(ct, key)\n",
        "print('\\nDECRYPTED TEXT:', new_pt)"
      ],
      "metadata": {
        "colab": {
          "base_uri": "https://localhost:8080/"
        },
        "id": "tTpjDaLRsU7h",
        "outputId": "2af5b67b-1cff-46b9-c505-7e025426e790"
      },
      "execution_count": null,
      "outputs": [
        {
          "output_type": "stream",
          "name": "stdout",
          "text": [
            "\n",
            "ORIGINAL TEXT: Txypevcb{vc~xyd;7Nxb7ver7xyr7dcrg7t{xdre7cx797979\n",
            "\n",
            "ENCRYPTED TEXT: Eijapgnm{gn~ijo;8Yim8gpc8ijc8oncr8e{iocp8ni808080\n",
            "\n",
            "DECRYPTED TEXT: Txypevcb{vc~xyd;7Nxb7ver7xyr7dcrg7t{xdre7cx797979\n"
          ]
        }
      ]
    },
    {
      "cell_type": "markdown",
      "source": [
        "### **BRUTE FORCE**"
      ],
      "metadata": {
        "id": "PWUQMFw6Rdws"
      }
    },
    {
      "cell_type": "code",
      "source": [
        "def brute_force(ct):\n",
        "    for key in range(1, 27):\n",
        "        pt = decryption(ct, key)\n",
        "        print(f'FOR KEY = {key}, PLAIN TEXT = {pt}')"
      ],
      "metadata": {
        "id": "mKVm9Jp0tsNW"
      },
      "execution_count": null,
      "outputs": []
    },
    {
      "cell_type": "code",
      "source": [
        "brute_force(ct)"
      ],
      "metadata": {
        "colab": {
          "base_uri": "https://localhost:8080/"
        },
        "id": "u3EBPuPPuK3a",
        "outputId": "6432a0c6-2717-4892-c858-e1f5b513f4b8"
      },
      "execution_count": null,
      "outputs": [
        {
          "output_type": "stream",
          "name": "stdout",
          "text": [
            "FOR KEY = 1, PLAIN TEXT = IAOBU zcromo God 76\n",
            "FOR KEY = 2, PLAIN TEXT = HZNAT ybqnln Fnc 65\n",
            "FOR KEY = 3, PLAIN TEXT = GYMZS xapmkm Emb 54\n",
            "FOR KEY = 4, PLAIN TEXT = FXLYR wzoljl Dla 43\n",
            "FOR KEY = 5, PLAIN TEXT = EWKXQ vynkik Ckz 32\n",
            "FOR KEY = 6, PLAIN TEXT = DVJWP uxmjhj Bjy 21\n",
            "FOR KEY = 7, PLAIN TEXT = CUIVO twligi Aix 10\n",
            "FOR KEY = 8, PLAIN TEXT = BTHUN svkhfh Zhw 09\n",
            "FOR KEY = 9, PLAIN TEXT = ASGTM rujgeg Ygv 98\n",
            "FOR KEY = 10, PLAIN TEXT = ZRFSL qtifdf Xfu 87\n",
            "FOR KEY = 11, PLAIN TEXT = YQERK pshece Wet 76\n",
            "FOR KEY = 12, PLAIN TEXT = XPDQJ orgdbd Vds 65\n",
            "FOR KEY = 13, PLAIN TEXT = WOCPI nqfcac Ucr 54\n",
            "FOR KEY = 14, PLAIN TEXT = VNBOH mpebzb Tbq 43\n",
            "FOR KEY = 15, PLAIN TEXT = UMANG lodaya Sap 32\n",
            "FOR KEY = 16, PLAIN TEXT = TLZMF knczxz Rzo 21\n",
            "FOR KEY = 17, PLAIN TEXT = SKYLE jmbywy Qyn 10\n",
            "FOR KEY = 18, PLAIN TEXT = RJXKD ilaxvx Pxm 09\n",
            "FOR KEY = 19, PLAIN TEXT = QIWJC hkzwuw Owl 98\n",
            "FOR KEY = 20, PLAIN TEXT = PHVIB gjyvtv Nvk 87\n",
            "FOR KEY = 21, PLAIN TEXT = OGUHA fixusu Muj 76\n",
            "FOR KEY = 22, PLAIN TEXT = NFTGZ ehwtrt Lti 65\n",
            "FOR KEY = 23, PLAIN TEXT = MESFY dgvsqs Ksh 54\n",
            "FOR KEY = 24, PLAIN TEXT = LDREX cfurpr Jrg 43\n",
            "FOR KEY = 25, PLAIN TEXT = KCQDW betqoq Iqf 32\n",
            "FOR KEY = 26, PLAIN TEXT = JBPCV adspnp Hpe 21\n"
          ]
        }
      ]
    },
    {
      "cell_type": "markdown",
      "source": [
        "### **DECRYPTING CUSTOM INPUTS**"
      ],
      "metadata": {
        "id": "s_pS_T0p1fmx"
      }
    },
    {
      "cell_type": "code",
      "source": [
        "brute_force('guvf fhowrpg vf ernyyl vagrerfgvat')"
      ],
      "metadata": {
        "colab": {
          "base_uri": "https://localhost:8080/"
        },
        "id": "rGErBKyAyZEN",
        "outputId": "764f4933-c5f3-43cf-bdb3-fdd5acec7d37"
      },
      "execution_count": null,
      "outputs": [
        {
          "output_type": "stream",
          "name": "stdout",
          "text": [
            "FOR KEY = 1, PLAIN TEXT = ftue egnvqof ue dqmxxk uzfqdqefuzs\n",
            "FOR KEY = 2, PLAIN TEXT = estd dfmupne td cplwwj tyepcpdetyr\n",
            "FOR KEY = 3, PLAIN TEXT = drsc celtomd sc bokvvi sxdobocdsxq\n",
            "FOR KEY = 4, PLAIN TEXT = cqrb bdksnlc rb anjuuh rwcnanbcrwp\n",
            "FOR KEY = 5, PLAIN TEXT = bpqa acjrmkb qa zmittg qvbmzmabqvo\n",
            "FOR KEY = 6, PLAIN TEXT = aopz zbiqlja pz ylhssf pualylzapun\n",
            "FOR KEY = 7, PLAIN TEXT = znoy yahpkiz oy xkgrre otzkxkyzotm\n",
            "FOR KEY = 8, PLAIN TEXT = ymnx xzgojhy nx wjfqqd nsyjwjxynsl\n",
            "FOR KEY = 9, PLAIN TEXT = xlmw wyfnigx mw vieppc mrxiviwxmrk\n",
            "FOR KEY = 10, PLAIN TEXT = wklv vxemhfw lv uhdoob lqwhuhvwlqj\n",
            "FOR KEY = 11, PLAIN TEXT = vjku uwdlgev ku tgcnna kpvgtguvkpi\n",
            "FOR KEY = 12, PLAIN TEXT = uijt tvckfdu jt sfbmmz joufsftujoh\n",
            "FOR KEY = 13, PLAIN TEXT = this subject is really interesting\n",
            "FOR KEY = 14, PLAIN TEXT = sghr rtaidbs hr qdzkkx hmsdqdrshmf\n",
            "FOR KEY = 15, PLAIN TEXT = rfgq qszhcar gq pcyjjw glrcpcqrgle\n",
            "FOR KEY = 16, PLAIN TEXT = qefp prygbzq fp obxiiv fkqbobpqfkd\n",
            "FOR KEY = 17, PLAIN TEXT = pdeo oqxfayp eo nawhhu ejpanaopejc\n",
            "FOR KEY = 18, PLAIN TEXT = ocdn npwezxo dn mzvggt diozmznodib\n",
            "FOR KEY = 19, PLAIN TEXT = nbcm movdywn cm lyuffs chnylymncha\n",
            "FOR KEY = 20, PLAIN TEXT = mabl lnucxvm bl kxteer bgmxkxlmbgz\n",
            "FOR KEY = 21, PLAIN TEXT = lzak kmtbwul ak jwsddq aflwjwklafy\n",
            "FOR KEY = 22, PLAIN TEXT = kyzj jlsavtk zj ivrccp zekvivjkzex\n",
            "FOR KEY = 23, PLAIN TEXT = jxyi ikrzusj yi huqbbo ydjuhuijydw\n",
            "FOR KEY = 24, PLAIN TEXT = iwxh hjqytri xh gtpaan xcitgthixcv\n",
            "FOR KEY = 25, PLAIN TEXT = hvwg gipxsqh wg fsozzm wbhsfsghwbu\n",
            "FOR KEY = 26, PLAIN TEXT = guvf fhowrpg vf ernyyl vagrerfgvat\n"
          ]
        }
      ]
    },
    {
      "cell_type": "code",
      "source": [
        "brute_force('vkrmhzktiarftdxlmaxmxqmkhunlm')"
      ],
      "metadata": {
        "colab": {
          "base_uri": "https://localhost:8080/"
        },
        "id": "DLVav2zuyqDC",
        "outputId": "7afdbaed-4acf-4853-b8b5-81482d0e54b5"
      },
      "execution_count": null,
      "outputs": [
        {
          "output_type": "stream",
          "name": "stdout",
          "text": [
            "FOR KEY = 1, PLAIN TEXT = ujqlgyjshzqescwklzwlwpljgtmkl\n",
            "FOR KEY = 2, PLAIN TEXT = tipkfxirgypdrbvjkyvkvokifsljk\n",
            "FOR KEY = 3, PLAIN TEXT = shojewhqfxocqauijxujunjherkij\n",
            "FOR KEY = 4, PLAIN TEXT = rgnidvgpewnbpzthiwtitmigdqjhi\n",
            "FOR KEY = 5, PLAIN TEXT = qfmhcufodvmaoysghvshslhfcpigh\n",
            "FOR KEY = 6, PLAIN TEXT = pelgbtenculznxrfgurgrkgebohfg\n",
            "FOR KEY = 7, PLAIN TEXT = odkfasdmbtkymwqeftqfqjfdangef\n",
            "FOR KEY = 8, PLAIN TEXT = ncjezrclasjxlvpdespepieczmfde\n",
            "FOR KEY = 9, PLAIN TEXT = mbidyqbkzriwkuocdrodohdbylecd\n",
            "FOR KEY = 10, PLAIN TEXT = lahcxpajyqhvjtnbcqncngcaxkdbc\n",
            "FOR KEY = 11, PLAIN TEXT = kzgbwozixpguismabpmbmfbzwjcab\n",
            "FOR KEY = 12, PLAIN TEXT = jyfavnyhwofthrlzaolaleayvibza\n",
            "FOR KEY = 13, PLAIN TEXT = ixezumxgvnesgqkyznkzkdzxuhayz\n",
            "FOR KEY = 14, PLAIN TEXT = hwdytlwfumdrfpjxymjyjcywtgzxy\n",
            "FOR KEY = 15, PLAIN TEXT = gvcxskvetlcqeoiwxlixibxvsfywx\n",
            "FOR KEY = 16, PLAIN TEXT = fubwrjudskbpdnhvwkhwhawurexvw\n",
            "FOR KEY = 17, PLAIN TEXT = etavqitcrjaocmguvjgvgzvtqdwuv\n",
            "FOR KEY = 18, PLAIN TEXT = dszuphsbqiznblftuifufyuspcvtu\n",
            "FOR KEY = 19, PLAIN TEXT = crytographymakesthetextrobust\n",
            "FOR KEY = 20, PLAIN TEXT = bqxsnfqzogxlzjdrsgdsdwsqnatrs\n",
            "FOR KEY = 21, PLAIN TEXT = apwrmepynfwkyicqrfcrcvrpmzsqr\n",
            "FOR KEY = 22, PLAIN TEXT = zovqldoxmevjxhbpqebqbuqolyrpq\n",
            "FOR KEY = 23, PLAIN TEXT = ynupkcnwlduiwgaopdapatpnkxqop\n",
            "FOR KEY = 24, PLAIN TEXT = xmtojbmvkcthvfznoczozsomjwpno\n",
            "FOR KEY = 25, PLAIN TEXT = wlsnialujbsgueymnbynyrnlivomn\n",
            "FOR KEY = 26, PLAIN TEXT = vkrmhzktiarftdxlmaxmxqmkhunlm\n"
          ]
        }
      ]
    },
    {
      "cell_type": "code",
      "source": [
        "ct = encryption('ATTACK ON HOUR 20', 4)\n",
        "print('\\nENCRYPTED TEXT:', ct)"
      ],
      "metadata": {
        "colab": {
          "base_uri": "https://localhost:8080/"
        },
        "id": "9NE5NwlOfQIy",
        "outputId": "a37cbb9b-ecb7-4d19-aa0a-49f1df3139fe"
      },
      "execution_count": null,
      "outputs": [
        {
          "output_type": "stream",
          "name": "stdout",
          "text": [
            "\n",
            "ENCRYPTED TEXT: EXXEGO SR LSYV 64\n"
          ]
        }
      ]
    },
    {
      "cell_type": "code",
      "source": [
        "brute_force(ct)"
      ],
      "metadata": {
        "colab": {
          "base_uri": "https://localhost:8080/"
        },
        "id": "3T9ij_pNd1dy",
        "outputId": "286f8c4f-b920-488f-e9a8-ee2d2cb9596d"
      },
      "execution_count": null,
      "outputs": [
        {
          "output_type": "stream",
          "name": "stdout",
          "text": [
            "FOR KEY = 1, PLAIN TEXT = DWWDFN RQ KRXU 53\n",
            "FOR KEY = 2, PLAIN TEXT = CVVCEM QP JQWT 42\n",
            "FOR KEY = 3, PLAIN TEXT = BUUBDL PO IPVS 31\n",
            "FOR KEY = 4, PLAIN TEXT = ATTACK ON HOUR 20\n",
            "FOR KEY = 5, PLAIN TEXT = ZSSZBJ NM GNTQ 19\n",
            "FOR KEY = 6, PLAIN TEXT = YRRYAI ML FMSP 08\n",
            "FOR KEY = 7, PLAIN TEXT = XQQXZH LK ELRO 97\n",
            "FOR KEY = 8, PLAIN TEXT = WPPWYG KJ DKQN 86\n",
            "FOR KEY = 9, PLAIN TEXT = VOOVXF JI CJPM 75\n",
            "FOR KEY = 10, PLAIN TEXT = UNNUWE IH BIOL 64\n",
            "FOR KEY = 11, PLAIN TEXT = TMMTVD HG AHNK 53\n",
            "FOR KEY = 12, PLAIN TEXT = SLLSUC GF ZGMJ 42\n",
            "FOR KEY = 13, PLAIN TEXT = RKKRTB FE YFLI 31\n",
            "FOR KEY = 14, PLAIN TEXT = QJJQSA ED XEKH 20\n",
            "FOR KEY = 15, PLAIN TEXT = PIIPRZ DC WDJG 19\n",
            "FOR KEY = 16, PLAIN TEXT = OHHOQY CB VCIF 08\n",
            "FOR KEY = 17, PLAIN TEXT = NGGNPX BA UBHE 97\n",
            "FOR KEY = 18, PLAIN TEXT = MFFMOW AZ TAGD 86\n",
            "FOR KEY = 19, PLAIN TEXT = LEELNV ZY SZFC 75\n",
            "FOR KEY = 20, PLAIN TEXT = KDDKMU YX RYEB 64\n",
            "FOR KEY = 21, PLAIN TEXT = JCCJLT XW QXDA 53\n",
            "FOR KEY = 22, PLAIN TEXT = IBBIKS WV PWCZ 42\n",
            "FOR KEY = 23, PLAIN TEXT = HAAHJR VU OVBY 31\n",
            "FOR KEY = 24, PLAIN TEXT = GZZGIQ UT NUAX 20\n",
            "FOR KEY = 25, PLAIN TEXT = FYYFHP TS MTZW 19\n",
            "FOR KEY = 26, PLAIN TEXT = EXXEGO SR LSYV 08\n"
          ]
        }
      ]
    },
    {
      "cell_type": "markdown",
      "source": [
        "## **ADDITIONAL - VIGENERE CIPHER**"
      ],
      "metadata": {
        "id": "8bDsfxEjMxur"
      }
    },
    {
      "cell_type": "code",
      "source": [
        "alphabets = 'ABCDEFGHIJKLMNOPQRSTUVWXYZ'\n",
        "\n",
        "alpha = {}\n",
        "for i, char in enumerate(alphabets):\n",
        "    alpha[char] = i\n",
        "\n",
        "key_list = list(alpha.keys())\n",
        "val_list = list(alpha.values())\n",
        "\n",
        "print(alpha)"
      ],
      "metadata": {
        "colab": {
          "base_uri": "https://localhost:8080/"
        },
        "id": "wlTuVS9MN6Lu",
        "outputId": "e3c61970-fa18-45a1-db87-748c10cacdbe"
      },
      "execution_count": null,
      "outputs": [
        {
          "output_type": "stream",
          "name": "stdout",
          "text": [
            "{'A': 0, 'B': 1, 'C': 2, 'D': 3, 'E': 4, 'F': 5, 'G': 6, 'H': 7, 'I': 8, 'J': 9, 'K': 10, 'L': 11, 'M': 12, 'N': 13, 'O': 14, 'P': 15, 'Q': 16, 'R': 17, 'S': 18, 'T': 19, 'U': 20, 'V': 21, 'W': 22, 'X': 23, 'Y': 24, 'Z': 25}\n"
          ]
        }
      ]
    },
    {
      "cell_type": "code",
      "source": [
        "cipher = {\n",
        "    'A':'ABCDEFGHIJKLMNOPQRSTUVWXYZ'\n",
        "}\n",
        "\n",
        "for key in range(1,26):\n",
        "    ct = encryption(cipher['A'], key)\n",
        "    cipher[ct[0]] = ct\n",
        "\n",
        "print(cipher)"
      ],
      "metadata": {
        "id": "iIo24P-5NYfF",
        "colab": {
          "base_uri": "https://localhost:8080/"
        },
        "outputId": "8f302569-2980-42cf-ffc3-c07dbee44c01"
      },
      "execution_count": null,
      "outputs": [
        {
          "output_type": "stream",
          "name": "stdout",
          "text": [
            "{'A': 'ABCDEFGHIJKLMNOPQRSTUVWXYZ', 'B': 'BCDEFGHIJKLMNOPQRSTUVWXYZA', 'C': 'CDEFGHIJKLMNOPQRSTUVWXYZAB', 'D': 'DEFGHIJKLMNOPQRSTUVWXYZABC', 'E': 'EFGHIJKLMNOPQRSTUVWXYZABCD', 'F': 'FGHIJKLMNOPQRSTUVWXYZABCDE', 'G': 'GHIJKLMNOPQRSTUVWXYZABCDEF', 'H': 'HIJKLMNOPQRSTUVWXYZABCDEFG', 'I': 'IJKLMNOPQRSTUVWXYZABCDEFGH', 'J': 'JKLMNOPQRSTUVWXYZABCDEFGHI', 'K': 'KLMNOPQRSTUVWXYZABCDEFGHIJ', 'L': 'LMNOPQRSTUVWXYZABCDEFGHIJK', 'M': 'MNOPQRSTUVWXYZABCDEFGHIJKL', 'N': 'NOPQRSTUVWXYZABCDEFGHIJKLM', 'O': 'OPQRSTUVWXYZABCDEFGHIJKLMN', 'P': 'PQRSTUVWXYZABCDEFGHIJKLMNO', 'Q': 'QRSTUVWXYZABCDEFGHIJKLMNOP', 'R': 'RSTUVWXYZABCDEFGHIJKLMNOPQ', 'S': 'STUVWXYZABCDEFGHIJKLMNOPQR', 'T': 'TUVWXYZABCDEFGHIJKLMNOPQRS', 'U': 'UVWXYZABCDEFGHIJKLMNOPQRST', 'V': 'VWXYZABCDEFGHIJKLMNOPQRSTU', 'W': 'WXYZABCDEFGHIJKLMNOPQRSTUV', 'X': 'XYZABCDEFGHIJKLMNOPQRSTUVW', 'Y': 'YZABCDEFGHIJKLMNOPQRSTUVWX', 'Z': 'ZABCDEFGHIJKLMNOPQRSTUVWXY'}\n"
          ]
        }
      ]
    },
    {
      "cell_type": "code",
      "source": [
        "def vigenere_encryption(pt, key):\n",
        "    ct = ''\n",
        "    n = len(pt)\n",
        "    for row, col in zip(pt,key):\n",
        "        if row == ' ':\n",
        "            ct += ' '\n",
        "        else:\n",
        "            inx = alpha[col]\n",
        "            ct += cipher[row][inx]\n",
        "\n",
        "    return ct"
      ],
      "metadata": {
        "id": "yiTvYeFkNOSU"
      },
      "execution_count": null,
      "outputs": []
    },
    {
      "cell_type": "code",
      "source": [
        "def vigenere_decryption(ct, key):\n",
        "    pt = ''\n",
        "    n = len(ct)\n",
        "    for col, row in zip(ct,key):\n",
        "        if (col == ' '):\n",
        "            pt += ' '\n",
        "        else:\n",
        "            inx = cipher[row].index(col)\n",
        "            pt += key_list[val_list.index(inx)]\n",
        "\n",
        "    return pt"
      ],
      "metadata": {
        "id": "9lax6wryPwQM"
      },
      "execution_count": null,
      "outputs": []
    },
    {
      "cell_type": "code",
      "source": [
        "# pt = input('ENTER INPUT STRING: ')\n",
        "# key = input('ENTER ENCRYPTION KEY: ')\n",
        "pt = 'JIZGIELULTAAVEWGFNMYUGUEHAWHBCKGOGRTDCNHBVHN'\n",
        "key = 'CONGRATULATIONS'\n",
        "key = 'BNMFQZSTKZSHNMR'\n",
        "# CT = CPPJ\n",
        "while ( len(key) < len(pt) ):\n",
        "    key += key\n",
        "\n",
        "key = key[:len(pt)]\n",
        "\n",
        "print('PLAIN TEXT:',pt)\n",
        "print('KEY:', key)\n",
        "\n",
        "ct = vigenere_encryption(pt, key)\n",
        "print('CIPHERED TEXT:', ct)\n",
        "\n",
        "new_pt = vigenere_decryption(ct, key)\n",
        "print('DECIPHERED TEXT:', new_pt)"
      ],
      "metadata": {
        "colab": {
          "base_uri": "https://localhost:8080/"
        },
        "id": "AhDE89qNMQBm",
        "outputId": "6251d489-2d40-4f06-d4f1-06b2bb821b26"
      },
      "execution_count": null,
      "outputs": [
        {
          "output_type": "stream",
          "name": "stdout",
          "text": [
            "PLAIN TEXT: JIZGIELULTAAVEWGFNMYUGUEHAWHBCKGOGRTDCNHBVHN\n",
            "KEY: BNMFQZSTKZSHNMRBNMFQZSTKZSHNMRBNMFQZSTKZSHNM\n",
            "CIPHERED TEXT: KVLLYDDNVSSHIQNHSZROTYNOGSDUNTLTALHSVVXGTCUZ\n",
            "DECIPHERED TEXT: JIZGIELULTAAVEWGFNMYUGUEHAWHBCKGOGRTDCNHBVHN\n"
          ]
        }
      ]
    }
  ]
}