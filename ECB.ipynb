{
  "nbformat": 4,
  "nbformat_minor": 0,
  "metadata": {
    "colab": {
      "provenance": []
    },
    "kernelspec": {
      "name": "python3",
      "display_name": "Python 3"
    },
    "language_info": {
      "name": "python"
    }
  },
  "cells": [
    {
      "cell_type": "code",
      "source": [
        "# Add String here to Encrypt and Decrypt\n",
        "plain = input(\"Enter you string:\")\n",
        "ascii_chars = []\n",
        "binary = []\n",
        "encrypted = []\n",
        "for char in plain:\n",
        " # Converting characters into ascii values\n",
        " ascii_chars.append(ord(char))\n",
        " # Converting ascii values into 16 bit binary\n",
        " grp_16 = bin(ord(char))[2:]\n",
        " binary.append(grp_16)\n",
        "\n",
        " # Taking t=1 for circular left shift\n",
        " text = grp_16[1:] + grp_16[0]\n",
        " if len(text)==6:\n",
        " # print(\"6: \"+text)\n",
        "  text = \"0\" + text\n",
        "  encrypted.append(text)\n",
        " else:\n",
        "  encrypted.append(text)\n",
        "# Taking key to perform XOR with\n",
        "key = 65\n",
        "# Converting key into 16 but binary, we can take key which is 16 bit only\n",
        "binary_key = bin(key)[2:]\n",
        "print(\"Binary Key: \" + binary_key)\n",
        "print(f\"Key Type: {type(binary_key)}\")\n",
        "print(ascii_chars)\n",
        "print(binary)\n",
        "print(encrypted)"
      ],
      "metadata": {
        "colab": {
          "base_uri": "https://localhost:8080/"
        },
        "id": "Who8ElQJLZRj",
        "outputId": "d9b62844-1c88-4d67-bfdc-f26f2f68f5ae"
      },
      "execution_count": null,
      "outputs": [
        {
          "output_type": "stream",
          "name": "stdout",
          "text": [
            "Enter you string:hii\n",
            "Binary Key: 1000001\n",
            "Key Type: <class 'str'>\n",
            "[104, 105, 105]\n",
            "['1101000', '1101001', '1101001']\n",
            "['1010001', '1010011', '1010011']\n"
          ]
        }
      ]
    },
    {
      "cell_type": "code",
      "source": [
        "\n",
        "# Applying XOR\n",
        "msg = []\n",
        "encrypt = []\n",
        "for num in encrypted:\n",
        " xor = int(num, 2)^int(binary_key, 2)\n",
        " msg.append(xor)\n",
        " encrypt.append(chr(xor))\n",
        "print(msg)\n",
        "print(encrypt)\n",
        "encrypted_text = ''.join(char for char in encrypt)\n",
        "print(encrypted_text)"
      ],
      "metadata": {
        "colab": {
          "base_uri": "https://localhost:8080/"
        },
        "id": "GjByDUO8LZ8T",
        "outputId": "9548d274-dfb0-4547-ee3a-a4dcb33999c5"
      },
      "execution_count": null,
      "outputs": [
        {
          "output_type": "stream",
          "name": "stdout",
          "text": [
            "[16, 18, 18]\n",
            "['\\x10', '\\x12', '\\x12']\n",
            "\u0010\u0012\u0012\n"
          ]
        }
      ]
    },
    {
      "cell_type": "code",
      "source": [
        "\n",
        "real = []\n",
        "shifted_binary = []\n",
        "original_binary = []\n",
        "plainText = []\n",
        "# Backtracking XOR\n",
        "for num in msg:\n",
        " # Converting into original decimal\n",
        " xor_rev = int(num)^int(binary_key, 2)\n",
        " real.append(xor_rev)\n",
        " # Converting those decimal into og circular shifted binary\n",
        " text = ''\n",
        " if len(bin(xor_rev)[2:]) < 7:\n",
        "  text = '0'*(7 - len(bin(xor_rev)[2:])) + bin(xor_rev)[2:]\n",
        " # print(text)\n",
        "  shifted_binary.append(text)\n",
        " else:\n",
        "  text = bin(xor_rev)[2:]\n",
        "  shifted_binary.append(bin(xor_rev)[2:])\n",
        "\n",
        " # Circular Shift Right for decryption by t=1\n",
        " new_text = text[-1] + text[0:-1]\n",
        " original_binary.append(new_text)\n",
        " # Getting our Plain Text\n",
        " decimal = int(new_text, 2)\n",
        " if chr(decimal) == \"@\":\n",
        "  plainText.append(\" \")\n",
        " else:\n",
        "  plainText.append(chr(decimal))\n",
        "print(real)\n",
        "print(shifted_binary)\n",
        "print(original_binary)\n",
        "print(plainText)\n",
        "print(f\"\\nDecrypted Text with Key={key} is: \\n\")\n",
        "print(''.join(char for char in plainText))"
      ],
      "metadata": {
        "colab": {
          "base_uri": "https://localhost:8080/"
        },
        "id": "gWmAZfWxL4fL",
        "outputId": "3c0cc801-362e-4612-c387-5d8828075ceb"
      },
      "execution_count": null,
      "outputs": [
        {
          "output_type": "stream",
          "name": "stdout",
          "text": [
            "[81, 83, 83]\n",
            "['1010001', '1010011', '1010011']\n",
            "['1101000', '1101001', '1101001']\n",
            "['h', 'i', 'i']\n",
            "\n",
            "Decrypted Text with Key=65 is: \n",
            "\n",
            "hii\n"
          ]
        }
      ]
    }
  ]
}