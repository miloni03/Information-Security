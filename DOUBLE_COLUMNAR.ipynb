{
  "nbformat": 4,
  "nbformat_minor": 0,
  "metadata": {
    "colab": {
      "provenance": []
    },
    "kernelspec": {
      "name": "python3",
      "display_name": "Python 3"
    },
    "language_info": {
      "name": "python"
    }
  },
  "cells": [
    {
      "cell_type": "code",
      "source": [
        "def printMat(mat):\n",
        "  for i in mat:\n",
        "    print(i)\n",
        "\n",
        "\n",
        "def encrypt(pt,key):\n",
        "  matrix=[]\n",
        "  # print(matrix)\n",
        "  n=len(key)\n",
        "  temp=pt\n",
        "  completed=False\n",
        " \n",
        "  while(len(temp)!=0):\n",
        "    level=[]\n",
        "    if(not completed):\n",
        "\n",
        "      for j in range(n):\n",
        "        if(len(temp)!=0):\n",
        "          level.append(temp[0])\n",
        "          temp=temp[1:]\n",
        "        else:\n",
        "          level.append('x')\n",
        "          completed=True\n",
        "      # print(level)\n",
        "      \n",
        "      \n",
        "      matrix.append(level)\n",
        "  \n",
        "  printMat(matrix)\n",
        "  # print(key)\n",
        "  original_map=[]\n",
        "  for i,alpha in enumerate(key):\n",
        "    original_map.append([alpha,i])\n",
        "  # print(original_map)\n",
        "\n",
        "  key=list(key)\n",
        "  temp=list(sorted(key))\n",
        "  # print(temp)\n",
        "  map=[]\n",
        "  for i,alpha in enumerate(temp):\n",
        "    map.append([alpha,i])\n",
        "\n",
        "  n=len(matrix)\n",
        "  # print(n)\n",
        "  transpose=[]\n",
        "  for i in range(len(key)):\n",
        "    level=[]\n",
        "    for j in range(n):\n",
        "      # print(matrix[j][i])\n",
        "      level.append(matrix[j][i])\n",
        "    transpose.append(level)\n",
        "  printMat(transpose)\n",
        "\n",
        "  ans=\"\"\n",
        "  visited=[]\n",
        "  for i in map:\n",
        "    alpha=i[0]\n",
        "    index=0\n",
        "    for y in original_map:\n",
        "      if(y[0]==alpha and y[1] not in visited):\n",
        "        index=y[1]\n",
        "        visited.append(index)\n",
        "        break\n",
        "    # print(index)\n",
        "    temp=transpose[index]\n",
        "    for j in temp:\n",
        "      ans+=j\n",
        "  # print(ans)\n",
        "\n",
        "  return (ans,original_map,map)\n",
        "  \n",
        "  \n",
        "encrypt(\"columnartransposition\",\"heaven\")\n",
        "\n",
        "\n",
        "import math\n",
        "def decrypt(map,o_map,key,ct):\n",
        "  n_rows=math.ceil(len(ct)/len(key))\n",
        "  # print(n_rows)\n",
        "  text=[ct[i:i+n_rows] for i in range(0, len(ct), n_rows)]\n",
        "  print(text)\n",
        "  indexes=[]\n",
        "  visited=[]\n",
        "  for i in map:\n",
        "    alpha=i[0]\n",
        "    index=0\n",
        "    for y in o_map:\n",
        "      if(y[0]==alpha and y[1] not in visited):\n",
        "        index=y[1]\n",
        "        # print(index)\n",
        "        visited.append(index)\n",
        "        break\n",
        "    indexes.append(index)\n",
        "  \n",
        "  # print(indexes)\n",
        "  mat=[]\n",
        "  for i in indexes:\n",
        "    mat.append(text[i])\n",
        "  # print(mat)\n",
        "  \n",
        "  ans=[]\n",
        "  for i in range(n_rows):\n",
        "    first=([word[i] for word in mat])\n",
        "   \n",
        "    ans.append(first)\n",
        "\n",
        "  fans=\"\"\n",
        "  for word in ans:\n",
        "    x=\"\".join([str(i) for i in word])\n",
        "    fans+=x\n",
        "  # print(ans)\n",
        "  # print(fans)\n",
        "  index=fans.find('x')\n",
        "  if index!=-1:\n",
        "    fans=fans[:index]\n",
        "  return fans\n",
        "  \n",
        "\n",
        "\n",
        "\n",
        "\n"
      ],
      "metadata": {
        "colab": {
          "base_uri": "https://localhost:8080/"
        },
        "id": "B8OqaPycYF3e",
        "outputId": "66587d5d-6514-4a02-a19d-eb8bdad849e7"
      },
      "execution_count": null,
      "outputs": [
        {
          "output_type": "stream",
          "name": "stdout",
          "text": [
            "['c', 'o', 'l', 'u', 'm', 'n']\n",
            "['a', 'r', 't', 'r', 'a', 'n']\n",
            "['s', 'p', 'o', 's', 'i', 't']\n",
            "['i', 'o', 'n', 'x', 'x', 'x']\n",
            "['c', 'a', 's', 'i']\n",
            "['o', 'r', 'p', 'o']\n",
            "['l', 't', 'o', 'n']\n",
            "['u', 'r', 's', 'x']\n",
            "['m', 'a', 'i', 'x']\n",
            "['n', 'n', 't', 'x']\n"
          ]
        }
      ]
    },
    {
      "cell_type": "code",
      "source": [
        "pt=\"savethekingfromattack\"\n",
        "key=\"ENCRYPT\"\n",
        "\n",
        "cipher_text,o_map,map=encrypt(pt,key)\n",
        "print(\"Cipher text is: \",cipher_text)\n"
      ],
      "metadata": {
        "colab": {
          "base_uri": "https://localhost:8080/"
        },
        "id": "ZIJO4cIJY2DE",
        "outputId": "a481a53e-f099-4ae2-e6bd-3418ae91df00"
      },
      "execution_count": null,
      "outputs": [
        {
          "output_type": "stream",
          "name": "stdout",
          "text": [
            "['s', 'a', 'v', 'e', 't', 'h', 'e']\n",
            "['k', 'i', 'n', 'g', 'f', 'r', 'o']\n",
            "['m', 'a', 't', 't', 'a', 'c', 'k']\n",
            "['s', 'k', 'm']\n",
            "['a', 'i', 'a']\n",
            "['v', 'n', 't']\n",
            "['e', 'g', 't']\n",
            "['t', 'f', 'a']\n",
            "['h', 'r', 'c']\n",
            "['e', 'o', 'k']\n",
            "Cipher text is:  vntskmaiahrcegteoktfa\n"
          ]
        }
      ]
    },
    {
      "cell_type": "code",
      "source": [
        "pt=\"vntskmaiahrcegteoktfa\"\n",
        "key=\"ENCRYPT\"\n",
        "\n",
        "cipher_text1,o_map,map=encrypt(pt,key)\n",
        "print(\"Cipher text is: \",cipher_text1)"
      ],
      "metadata": {
        "colab": {
          "base_uri": "https://localhost:8080/"
        },
        "id": "0l96W8jxRw4x",
        "outputId": "78b63411-c302-4887-f297-b0202ef1a622"
      },
      "execution_count": null,
      "outputs": [
        {
          "output_type": "stream",
          "name": "stdout",
          "text": [
            "['v', 'n', 't', 's', 'k', 'm', 'a']\n",
            "['i', 'a', 'h', 'r', 'c', 'e', 'g']\n",
            "['t', 'e', 'o', 'k', 't', 'f', 'a']\n",
            "['v', 'i', 't']\n",
            "['n', 'a', 'e']\n",
            "['t', 'h', 'o']\n",
            "['s', 'r', 'k']\n",
            "['k', 'c', 't']\n",
            "['m', 'e', 'f']\n",
            "['a', 'g', 'a']\n",
            "Cipher text is:  thovitnaemefsrkagakct\n"
          ]
        }
      ]
    },
    {
      "cell_type": "code",
      "source": [
        "plain_text1=decrypt(o_map,map,key,cipher_text1)\n",
        "print(\"Plain text is: \",plain_text1)"
      ],
      "metadata": {
        "colab": {
          "base_uri": "https://localhost:8080/"
        },
        "id": "59sLdrLBRrNa",
        "outputId": "e771ece4-fcac-4802-f8cd-e244c977babc"
      },
      "execution_count": null,
      "outputs": [
        {
          "output_type": "stream",
          "name": "stdout",
          "text": [
            "['tho', 'vit', 'nae', 'mef', 'srk', 'aga', 'kct']\n",
            "Plain text is:  vntskmaiahrcegteoktfa\n"
          ]
        }
      ]
    },
    {
      "cell_type": "code",
      "source": [
        "plain_text=decrypt(o_map,map,key,plain_text1)\n",
        "print(\"Plain text is: \",plain_text)"
      ],
      "metadata": {
        "colab": {
          "base_uri": "https://localhost:8080/"
        },
        "id": "6g8pOOfwSDxi",
        "outputId": "8e317359-dce8-42f3-ce94-3705e48eb5f7"
      },
      "execution_count": null,
      "outputs": [
        {
          "output_type": "stream",
          "name": "stdout",
          "text": [
            "['vnt', 'skm', 'aia', 'hrc', 'egt', 'eok', 'tfa']\n",
            "Plain text is:  savethekingfromattack\n"
          ]
        }
      ]
    }
  ]
}